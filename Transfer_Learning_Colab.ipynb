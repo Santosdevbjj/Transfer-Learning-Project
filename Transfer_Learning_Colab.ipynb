{
 "cells": [
  {
   "cell_type": "markdown",
   "metadata": {},
   "source": [
    "# 🐱🐶 Projeto de Transfer Learning - Cats vs Dogs\n",
    "Este notebook demonstra como aplicar **Transfer Learning** utilizando o modelo **MobileNetV2 pré-treinado no ImageNet** para classificar imagens de **Gatos vs Cães**.\n",
    "\n",
    "📌 Autor: Sérgio Santos  \n",
    "📌 Dataset: [Cats vs Dogs (TensorFlow Datasets)](https://www.tensorflow.org/datasets/catalog/cats_vs_dogs)\n",
    "\n",
    "---"
   ]
  },
  {
   "cell_type": "code",
   "execution_count": null,
   "metadata": {},
   "outputs": [],
   "source": [
    "# =======================================================\n",
    "# 1. Instalar e importar dependências\n",
    "# =======================================================\n",
    "!pip install tensorflow tensorflow-datasets matplotlib\n",
    "\n",
    "import tensorflow as tf\n",
    "from tensorflow import keras\n",
    "from tensorflow.keras import layers, models, callbacks\n",
    "import matplotlib.pyplot as plt\n",
    "import tensorflow_datasets as tfds\n",
    "import os, json"
   ]
  },
  {
   "cell_type": "markdown",
   "metadata": {},
   "source": [
    "## 🔧 Configurações gerais"
   ]
  },
  {
   "cell_type": "code",
   "execution_count": null,
   "metadata": {},
   "outputs": [],
   "source": [
    "IMG_SIZE = (160, 160)\n",
    "BATCH_SIZE = 32\n",
    "EPOCHS = 5\n",
    "MODEL_DIR = \"models\"\n",
    "HISTORY_DIR = \"history\"\n",
    "\n",
    "os.makedirs(MODEL_DIR, exist_ok=True)\n",
    "os.makedirs(HISTORY_DIR, exist_ok=True)"
   ]
  },
  {
   "cell_type": "markdown",
   "metadata": {},
   "source": [
    "## 📥 2. Carregar e preparar dataset\n",
    "O dataset **Cats vs Dogs** será carregado a partir do TensorFlow Datasets. Faremos pré-processamento:\n",
    "- Redimensionamento das imagens\n",
    "- Normalização dos pixels (0-1)\n",
    "- Divisão em treino e teste"
   ]
  },
  {
   "cell_type": "code",
   "execution_count": null,
   "metadata": {},
   "outputs": [],
   "source": [
    "print(\"Carregando dataset Cats vs Dogs...\")\n",
    "dataset, info = tfds.load('cats_vs_dogs', with_info=True, as_supervised=True)\n",
    "\n",
    "train_ds = dataset['train']\n",
    "test_ds = dataset['train'].take(2000)  # parte do dataset para teste\n",
    "\n",
    "def format_example(image, label):\n",
    "    image = tf.image.resize(image, IMG_SIZE)\n",
    "    image = image / 255.0  # normalização\n",
    "    return image, label\n",
    "\n",
    "train_ds = train_ds.map(format_example).shuffle(1000).batch(BATCH_SIZE).prefetch(tf.data.AUTOTUNE)\n",
    "test_ds = test_ds.map(format_example).batch(BATCH_SIZE).prefetch(tf.data.AUTOTUNE)"
   ]
  },
  {
   "cell_type": "markdown",
   "metadata": {},
   "source": [
    "## 🧠 3. Construção do modelo com MobileNetV2\n",
    "Utilizaremos o **MobileNetV2** pré-treinado no **ImageNet**, removendo a camada final e adicionando:\n",
    "- `GlobalAveragePooling2D`\n",
    "- `Dropout`\n",
    "- `Dense(1, sigmoid)` para classificação binária"
   ]
  },
  {
   "cell_type": "code",
   "execution_count": null,
   "metadata": {},
   "outputs": [],
   "source": [
    "print(\"Carregando MobileNetV2 pré-treinada...\")\n",
    "base_model = keras.applications.MobileNetV2(\n",
    "    input_shape=IMG_SIZE + (3,),\n",
    "    include_top=False,\n",
    "    weights='imagenet'\n",
    ")\n",
    "base_model.trainable = False\n",
    "\n",
    "inputs = keras.Input(shape=IMG_SIZE + (3,))\n",
    "x = base_model(inputs, training=False)\n",
    "x = layers.GlobalAveragePooling2D()(x)\n",
    "x = layers.Dropout(0.3)(x)\n",
    "outputs = layers.Dense(1, activation='sigmoid')(x)\n",
    "\n",
    "model = keras.Model(inputs, outputs, name=\"cats_vs_dogs_transfer_learning\")\n",
    "model.summary()"
   ]
  },
  {
   "cell_type": "markdown",
   "metadata": {},
   "source": [
    "## ⚙️ 4. Compilar e configurar callbacks\n",
    "- Otimizador **Adam** com learning rate reduzido\n",
    "- Loss: `binary_crossentropy`\n",
    "- Métricas: `accuracy`, `precision`, `recall`\n",
    "- Callbacks: `ModelCheckpoint` e `EarlyStopping`"
   ]
  },
  {
   "cell_type": "code",
   "execution_count": null,
   "metadata": {},
   "outputs": [],
   "source": [
    "model.compile(\n",
    "    optimizer=keras.optimizers.Adam(learning_rate=0.0001),\n",
    "    loss='binary_crossentropy',\n",
    "    metrics=['accuracy', keras.metrics.Precision(), keras.metrics.Recall()]\n",
    ")\n",
    "\n",
    "checkpoint_cb = callbacks.ModelCheckpoint(\n",
    "    filepath=os.path.join(MODEL_DIR, \"transfer_learning_best.keras\"),\n",
    "    save_best_only=True,\n",
    "    monitor=\"val_accuracy\",\n",
    "    mode=\"max\",\n",
    "    verbose=1\n",
    ")\n",
    "\n",
    "earlystop_cb = callbacks.EarlyStopping(\n",
    "    patience=3,\n",
    "    restore_best_weights=True,\n",
    "    monitor=\"val_accuracy\"\n",
    ")"
   ]
  },
  {
   "cell_type": "markdown",
   "metadata": {},
   "source": [
    "## 🚀 5. Treinamento do modelo"
   ]
  },
  {
   "cell_type": "code",
   "execution_count": null,
   "metadata": {},
   "outputs": [],
   "source": [
    "print(\"Treinando modelo...\")\n",
    "history = model.fit(\n",
    "    train_ds,\n",
    "    validation_data=test_ds,\n",
    "    epochs=EPOCHS,\n",
    "    callbacks=[checkpoint_cb, earlystop_cb]\n",
    ")"
   ]
  },
  {
   "cell_type": "markdown",
   "metadata": {},
   "source": [
    "## 📊 6. Avaliar desempenho"
   ]
  },
  {
   "cell_type": "code",
   "execution_count": null,
   "metadata": {},
   "outputs": [],
   "source": [
    "loss, acc, prec, rec = model.evaluate(test_ds)\n",
    "print(f\"\\nDesempenho no conjunto de teste:\")\n",
    "print(f\"  Loss: {loss:.4f}\")\n",
    "print(f\"  Acurácia: {acc:.4f}\")\n",
    "print(f\"  Precisão: {prec:.4f}\")\n",
    "print(f\"  Recall: {rec:.4f}\")"
   ]
  },
  {
   "cell_type": "markdown",
   "metadata": {},
   "source": [
    "## 💾 7. Salvar modelo e histórico"
   ]
  },
  {
   "cell_type": "code",
   "execution_count": null,
   "metadata": {},
   "outputs": [],
   "source": [
    "final_model_path = os.path.join(MODEL_DIR, \"transfer_learning_final.keras\")\n",
    "model.save(final_model_path)\n",
    "print(f\"Modelo salvo em: {final_model_path}\")\n",
    "\n",
    "history_path = os.path.join(HISTORY_DIR, \"training_history.json\")\n",
    "with open(history_path, \"w\") as f:\n",
    "    json.dump(history.history, f)\n",
    "print(f\"Histórico salvo em: {history_path}\")"
   ]
  },
  {
   "cell_type": "markdown",
   "metadata": {},
   "source": [
    "## 📈 8. Curvas de aprendizado"
   ]
  },
  {
   "cell_type": "code",
   "execution_count": null,
   "metadata": {},
   "outputs": [],
   "source": [
    "plt.figure(figsize=(10, 5))\n",
    "plt.plot(history.history['accuracy'], label='Treino Acurácia')\n",
    "plt.plot(history.history['val_accuracy'], label='Validação Acurácia')\n",
    "plt.xlabel(\"Épocas\")\n",
    "plt.ylabel(\"Acurácia\")\n",
    "plt.legend()\n",
    "plt.grid(True)\n",
    "plt.title(\"Curva de Aprendizado - Transfer Learning\")\n",
    "plt.savefig(os.path.join(HISTORY_DIR, \"accuracy_curve.png\"))\n",
    "plt.show()"
   ]
  }
 ],
 "metadata": {
  "kernelspec": {
   "display_name": "Python 3",
   "language": "python",
   "name": "python3"
  },
  "language_info": {
   "name": "python",
   "version": "3.10"
  }
 },
 "nbformat": 4,
 "nbformat_minor": 5
}
